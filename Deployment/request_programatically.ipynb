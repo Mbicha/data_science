{
 "cells": [
  {
   "cell_type": "code",
   "execution_count": 4,
   "id": "bcf90e85",
   "metadata": {},
   "outputs": [],
   "source": [
    "import requests"
   ]
  },
  {
   "cell_type": "code",
   "execution_count": 2,
   "id": "4e062990",
   "metadata": {},
   "outputs": [],
   "source": [
    "flower_example = {\"sepal_length\": 2.1,\n",
    "                \"sepal_width\": 1.5,\n",
    "                \"petal_length\": 2.4,\n",
    "                \"petal_width\": 3.2}"
   ]
  },
  {
   "cell_type": "code",
   "execution_count": 3,
   "id": "d19807b4",
   "metadata": {},
   "outputs": [
    {
     "data": {
      "text/plain": [
       "{'sepal_length': 2.1,\n",
       " 'sepal_width': 1.5,\n",
       " 'petal_length': 2.4,\n",
       " 'petal_width': 3.2}"
      ]
     },
     "execution_count": 3,
     "metadata": {},
     "output_type": "execute_result"
    }
   ],
   "source": [
    "flower_example"
   ]
  },
  {
   "cell_type": "code",
   "execution_count": 5,
   "id": "967387ef",
   "metadata": {},
   "outputs": [
    {
     "data": {
      "text/plain": [
       "200"
      ]
     },
     "execution_count": 5,
     "metadata": {},
     "output_type": "execute_result"
    }
   ],
   "source": [
    "results = requests.post(\"http://127.0.0.1:5000/api/flower\", json=flower_example)\n",
    "results.status_code"
   ]
  },
  {
   "cell_type": "code",
   "execution_count": 7,
   "id": "56374a7a",
   "metadata": {},
   "outputs": [
    {
     "name": "stdout",
     "output_type": "stream",
     "text": [
      "\"virginica\"\n",
      "\n"
     ]
    }
   ],
   "source": [
    "print(results.text)"
   ]
  },
  {
   "cell_type": "code",
   "execution_count": null,
   "id": "01777a86",
   "metadata": {},
   "outputs": [],
   "source": []
  }
 ],
 "metadata": {
  "kernelspec": {
   "display_name": "Python 3 (ipykernel)",
   "language": "python",
   "name": "python3"
  },
  "language_info": {
   "codemirror_mode": {
    "name": "ipython",
    "version": 3
   },
   "file_extension": ".py",
   "mimetype": "text/x-python",
   "name": "python",
   "nbconvert_exporter": "python",
   "pygments_lexer": "ipython3",
   "version": "3.9.12"
  }
 },
 "nbformat": 4,
 "nbformat_minor": 5
}
